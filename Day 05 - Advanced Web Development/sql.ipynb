{
 "cells": [
  {
   "cell_type": "code",
   "execution_count": null,
   "metadata": {},
   "outputs": [
    {
     "name": "stdout",
     "output_type": "stream",
     "text": [
      "('Alice', 25)\n"
     ]
    }
   ],
   "source": [
    "import sqlite3\n",
    "conn = sqlite3.connect('mydata.db')\n",
    "cursor = conn.cursor()\n",
    "cursor.execute(\"CREATE TABLE IF NOT EXISTS users (name TEXT, age INTEGER)\")\n",
    "cursor.execute(\"INSERT INTO users VALUES ('Alice', 25)\")\n",
    "cursor.execute(\"SELECT * FROM users\")\n",
    "rows = cursor.fetchall()\n",
    "for row in rows:\n",
    "    print(row)\n",
    "conn.close()"
   ]
  },
  {
   "cell_type": "code",
   "execution_count": 2,
   "metadata": {},
   "outputs": [],
   "source": [
    "import sqlite3\n",
    "import tkinter\n",
    "\n",
    "# Connect to DB\n",
    "conn = sqlite3.connect('mydata.db')\n",
    "cursor = conn.cursor()\n",
    "\n",
    "# Create table\n",
    "cursor.execute(\"CREATE TABLE IF NOT EXISTS users (name TEXT, age INTEGER)\")\n",
    "\n",
    "# Insert data\n",
    "cursor.execute(\"INSERT INTO users VALUES (?, ?)\", (\"Alice\", 25))\n",
    "conn.commit()\n",
    "\n",
    "# Fetch data\n",
    "cursor.execute(\"SELECT * FROM users\")\n",
    "rows = cursor.fetchall()\n",
    "conn.close()\n",
    "\n",
    "from tkinter import *\n",
    "import sqlite3\n",
    "def save_data():\n",
    "    name = entry.get()\n",
    "    conn = sqlite3.connect('mydata.db')\n",
    "    cursor = conn.cursor()\n",
    "    cursor.execute(\"CREATE TABLE IF NOT EXISTS notes (content TEXT)\")\n",
    "    cursor.execute(\"INSERT INTO notes VALUES (?)\", (name,))\n",
    "    conn.commit()\n",
    "    conn.close()\n",
    "    label.config(text=\"Saved!\")\n",
    "\n",
    "root = Tk()\n",
    "entry = Entry(root)\n",
    "entry.pack()\n",
    "Button(root, text=\"Save\", command=save_data).pack()\n",
    "label = Label(root, text=\"\")\n",
    "label.pack()\n",
    "root.mainloop()"
   ]
  }
 ],
 "metadata": {
  "kernelspec": {
   "display_name": ".venv",
   "language": "python",
   "name": "python3"
  },
  "language_info": {
   "codemirror_mode": {
    "name": "ipython",
    "version": 3
   },
   "file_extension": ".py",
   "mimetype": "text/x-python",
   "name": "python",
   "nbconvert_exporter": "python",
   "pygments_lexer": "ipython3",
   "version": "3.13.2"
  }
 },
 "nbformat": 4,
 "nbformat_minor": 2
}
