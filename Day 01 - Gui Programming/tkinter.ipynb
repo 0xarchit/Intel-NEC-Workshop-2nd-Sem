{
 "cells": [
  {
   "cell_type": "code",
   "execution_count": null,
   "metadata": {},
   "outputs": [],
   "source": [
    "from tkinter import *"
   ]
  },
  {
   "cell_type": "code",
   "execution_count": 8,
   "metadata": {},
   "outputs": [],
   "source": [
    "from tkinter import *\n",
    "from PIL import ImageTk, Image\n",
    "arc_root = Tk()\n",
    "arc_root.title(\"Archit\")\n",
    "\n",
    "arc_root.geometry(\"1024x1024\")\n",
    "# arc_root.minsize(1024,1024)\n",
    "# arc_root.maxsize(1024,1024)\n",
    "arc_root.config(bg=\"black\")\n",
    "arc = Label(text=\"Hola\", bg=\"black\", fg=\"white\", font=(\"Times New Roman\", 19, \"bold\"))\n",
    "arc.pack()\n",
    "\n",
    "\n",
    "image = PhotoImage(file=\"../0xarchit.png\")\n",
    "img = Image.open(\"../0xarchit.png\")\n",
    "img = ImageTk.PhotoImage(img)\n",
    "panel = Label(arc_root, image = img)\n",
    "panel.pack(side = \"bottom\", fill = \"both\", expand = \"yes\")\n",
    "\n",
    "panel = Label(arc_root, image=img)\n",
    "panel.pack(side=\"bottom\", fill=\"both\", expand=\"yes\")\n",
    "\n",
    "arc_root.mainloop()"
   ]
  },
  {
   "cell_type": "code",
   "execution_count": 9,
   "metadata": {},
   "outputs": [],
   "source": [
    "from tkinter import *\n",
    "from PIL import ImageTk, Image\n",
    "\n",
    "# Create the main window\n",
    "arc_root = Tk()\n",
    "arc_root.title(\"Archit\")\n",
    "\n",
    "# Set window size and background color\n",
    "arc_root.geometry(\"1024x1024\")\n",
    "arc_root.config(bg=\"black\")\n",
    "\n",
    "# Add a label with text\n",
    "arc = Label(text=\"Hola\", bg=\"black\", fg=\"white\", font=(\"Times New Roman\", 19, \"bold\"))\n",
    "arc.pack()\n",
    "\n",
    "# Load the image using PIL\n",
    "try:\n",
    "    img = Image.open(\"../0xarchit.png\") \n",
    "    img = img.resize((500, 500), Image.Resampling.LANCZOS)\n",
    "    img = ImageTk.PhotoImage(img)\n",
    "    \n",
    "    # Display the image in a Label\n",
    "    panel = Label(arc_root, image=img)\n",
    "    panel.image = img  # Keep a reference to avoid garbage collection\n",
    "    panel.pack(side=\"bottom\", fill=\"both\", expand=\"yes\")\n",
    "except Exception as e:\n",
    "    print(f\"Error loading image: {e}\")\n",
    "\n",
    "# Start the GUI event loop\n",
    "arc_root.mainloop()\n"
   ]
  },
  {
   "cell_type": "code",
   "execution_count": 5,
   "metadata": {},
   "outputs": [
    {
     "name": "stdout",
     "output_type": "stream",
     "text": [
      "Greetings!\n"
     ]
    }
   ],
   "source": [
    "import tkinter as tk\n",
    "def greet():\n",
    "    print(\"Greetings!\")\n",
    "root = tk.Tk()\n",
    "root.title(\"Greetings\")\n",
    "root.geometry(\"800x800\")\n",
    "button = tk.Button(root, text=\"Greet\", command=greet)\n",
    "button.pack()\n",
    "root.mainloop()\n"
   ]
  },
  {
   "cell_type": "code",
   "execution_count": 6,
   "metadata": {},
   "outputs": [
    {
     "name": "stdout",
     "output_type": "stream",
     "text": [
      "Greetings!\n",
      "Hello, arc\n"
     ]
    }
   ],
   "source": [
    "import tkinter as tk\n",
    "def greet():\n",
    "    print(\"Greetings!\")\n",
    "    message = f\"Hello, {entry.get()}\"\n",
    "    print(message)\n",
    "\n",
    "root = tk.Tk()\n",
    "root.title(\"Greetings\")\n",
    "root.geometry(\"800x800\")\n",
    "tk.Label(root, text=\"Enter Name: \").pack(pady=10)\n",
    "entry = tk.Entry(root)\n",
    "entry.pack(pady=10)\n",
    "\n",
    "button = tk.Button(root, text=\"Greet\", command=greet)\n",
    "button.pack(pady=10)\n",
    "root.mainloop()\n"
   ]
  },
  {
   "cell_type": "code",
   "execution_count": null,
   "metadata": {},
   "outputs": [],
   "source": []
  }
 ],
 "metadata": {
  "kernelspec": {
   "display_name": ".venv",
   "language": "python",
   "name": "python3"
  },
  "language_info": {
   "codemirror_mode": {
    "name": "ipython",
    "version": 3
   },
   "file_extension": ".py",
   "mimetype": "text/x-python",
   "name": "python",
   "nbconvert_exporter": "python",
   "pygments_lexer": "ipython3",
   "version": "3.13.2"
  }
 },
 "nbformat": 4,
 "nbformat_minor": 2
}
